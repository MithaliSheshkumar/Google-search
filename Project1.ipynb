{
 "cells": [
  {
   "cell_type": "code",
   "execution_count": 1,
   "id": "27588b37-93e4-4bd2-8e96-601be6108d72",
   "metadata": {},
   "outputs": [
    {
     "name": "stdout",
     "output_type": "stream",
     "text": [
      "Defaulting to user installation because normal site-packages is not writeable\n",
      "Looking in links: /usr/share/pip-wheels\n",
      "Requirement already satisfied: googlesearch-python in /home/beb17900-d13e-4ee1-ae4a-24188556d802/.local/lib/python3.10/site-packages (1.2.4)\n",
      "Requirement already satisfied: beautifulsoup4>=4.9 in /opt/conda/envs/anaconda-ai-2024.04-py310/lib/python3.10/site-packages (from googlesearch-python) (4.12.2)\n",
      "Requirement already satisfied: requests>=2.20 in /opt/conda/envs/anaconda-ai-2024.04-py310/lib/python3.10/site-packages (from googlesearch-python) (2.31.0)\n",
      "Requirement already satisfied: soupsieve>1.2 in /opt/conda/envs/anaconda-ai-2024.04-py310/lib/python3.10/site-packages (from beautifulsoup4>=4.9->googlesearch-python) (2.5)\n",
      "Requirement already satisfied: charset-normalizer<4,>=2 in /opt/conda/envs/anaconda-ai-2024.04-py310/lib/python3.10/site-packages (from requests>=2.20->googlesearch-python) (2.0.4)\n",
      "Requirement already satisfied: idna<4,>=2.5 in /opt/conda/envs/anaconda-ai-2024.04-py310/lib/python3.10/site-packages (from requests>=2.20->googlesearch-python) (3.4)\n",
      "Requirement already satisfied: urllib3<3,>=1.21.1 in /opt/conda/envs/anaconda-ai-2024.04-py310/lib/python3.10/site-packages (from requests>=2.20->googlesearch-python) (2.0.7)\n",
      "Requirement already satisfied: certifi>=2017.4.17 in /opt/conda/envs/anaconda-ai-2024.04-py310/lib/python3.10/site-packages (from requests>=2.20->googlesearch-python) (2024.2.2)\n",
      "Note: you may need to restart the kernel to use updated packages.\n"
     ]
    }
   ],
   "source": [
    "pip install googlesearch-python"
   ]
  },
  {
   "cell_type": "code",
   "execution_count": 38,
   "id": "e242fb64-1030-43b5-a2fb-142192439d09",
   "metadata": {},
   "outputs": [],
   "source": [
    "\n",
    "from googlesearch import search\n",
    "\n",
    "def google_search(query, num_results):\n",
    "    \n",
    "    return list(search(query, num_results=num_results))\n"
   ]
  },
  {
   "cell_type": "code",
   "execution_count": 40,
   "id": "b5bc62c6-3d20-423d-8504-26d3131f6018",
   "metadata": {},
   "outputs": [],
   "source": [
    "sear = google_search('AI and ML free certification', 10)"
   ]
  },
  {
   "cell_type": "code",
   "execution_count": 42,
   "id": "34638b1e-17af-47a2-8280-9871cc6b8e1d",
   "metadata": {},
   "outputs": [
    {
     "name": "stdout",
     "output_type": "stream",
     "text": [
      "https://cloud.google.com/learn/training/machinelearning-ai\n",
      "https://www.mygreatlearning.com/ai/free-courses\n",
      "https://www.coursera.org/courses?query=artificial%20intelligence\n",
      "https://www.marketingaiinstitute.com/blog/3-free-online-artificial-intelligence-courses-taught-by-google-and-stanford-experts\n",
      "https://fortune.com/education/articles/free-ai-classes-you-can-take-online/\n",
      "https://techcommunity.microsoft.com/t5/certification-trainings-partner/microsoft-is-offering-free-courses-ai-iot-machine-learning-data/td-p/3893765\n",
      "https://skillsbuild.org/students/course-catalog/artificial-intelligence\n",
      "https://www.zdnet.com/article/the-best-free-ai-courses/\n",
      "https://www.udemy.com/topic/artificial-intelligence/free/\n",
      "https://www.mygreatlearning.com/machine-learning/free-courses\n",
      "https://dlabs.ai/blog/top-10-free-machine-learning-and-artificial-intelligence-courses/\n",
      "https://www.classcentral.com/subject/ai\n"
     ]
    }
   ],
   "source": [
    "for i in sear:\n",
    "    print(i)"
   ]
  },
  {
   "cell_type": "code",
   "execution_count": null,
   "id": "f5d2ef4d-325d-4728-af9e-ab0ef906f15e",
   "metadata": {},
   "outputs": [],
   "source": []
  },
  {
   "cell_type": "code",
   "execution_count": null,
   "id": "75c4ecf5-107a-46b8-871d-817c0155dba7",
   "metadata": {},
   "outputs": [],
   "source": []
  }
 ],
 "metadata": {
  "kernelspec": {
   "display_name": "anaconda-ai-2024.04-py310",
   "language": "python",
   "name": "conda-env-anaconda-ai-2024.04-py310-py"
  },
  "language_info": {
   "codemirror_mode": {
    "name": "ipython",
    "version": 3
   },
   "file_extension": ".py",
   "mimetype": "text/x-python",
   "name": "python",
   "nbconvert_exporter": "python",
   "pygments_lexer": "ipython3",
   "version": "3.10.13"
  }
 },
 "nbformat": 4,
 "nbformat_minor": 5
}
